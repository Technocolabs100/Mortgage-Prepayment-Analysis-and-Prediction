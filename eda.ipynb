{
 "cells": [
  {
   "cell_type": "code",
   "execution_count": null,
   "id": "c0805975",
   "metadata": {},
   "outputs": [],
   "source": [
    "import pandas\n",
    "import numpy\n",
    "import seaborn\n",
    "import matplotlib.pyplot as plt\n",
    "import matplotlib_inline\n",
    "import math"
   ]
  },
  {
   "cell_type": "code",
   "execution_count": null,
   "id": "65d920e1",
   "metadata": {},
   "outputs": [],
   "source": [
    "df=pandas.read_csv('processed_MBS.csv')\n",
    "df.drop('LoanSeqNum',axis=1, inplace=True)\n",
    "df.drop('FirstPaymentDate',axis=1,inplace=True)\n",
    "df.drop('MaturityDate',axis=1,inplace=True)\n",
    "Y=df['EverDelinquent']\n",
    "X=df.drop('EverDelinquent',axis=1)\n",
    "# seaborn.countplot(x='EverDelinquent',data=df)\n",
    "# plt.show()\n",
    "# 1 : 31979\n",
    "# 0 : 135375"
   ]
  },
  {
   "cell_type": "code",
   "execution_count": null,
   "id": "359992b4",
   "metadata": {},
   "outputs": [],
   "source": [
    "defaulters=df[df['EverDelinquent']==1]\n",
    "normal=df[df['EverDelinquent']==0]"
   ]
  },
  {
   "cell_type": "code",
   "execution_count": null,
   "id": "8e3b9819",
   "metadata": {},
   "outputs": [],
   "source": [
    "from imblearn.combine import SMOTETomek\n",
    "from imblearn.under_sampling import NearMiss"
   ]
  },
  {
   "cell_type": "code",
   "execution_count": null,
   "id": "1429b029",
   "metadata": {},
   "outputs": [],
   "source": [
    "smk=SMOTETomek(random_state=42)\n",
    "X_res,Y_res=smk.fit_resample(X,Y)\n",
    "# df.insert(122,'EverDelinquent',Y_res.to_string(index=False),True)\n",
    "# df['EverDelinquent']=pandas.to_numeric(df['EverDelinquent'],errors='coerce')\n",
    "# df.dropna(inplace=True)\n",
    "# df.to_csv(\"smoted_2.csv\",index=False)\n",
    "X_res.to_csv(\"idk.csv\",index=False)\n",
    "Y_res.to_csv(\"res.csv\",index=False)"
   ]
  }
 ],
 "metadata": {
  "jupytext": {
   "cell_metadata_filter": "-all",
   "main_language": "python",
   "notebook_metadata_filter": "-all"
  }
 },
 "nbformat": 4,
 "nbformat_minor": 5
}
