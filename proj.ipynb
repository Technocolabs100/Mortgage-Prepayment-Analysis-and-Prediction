{
 "cells": [
  {
   "cell_type": "code",
   "execution_count": 1,
   "metadata": {},
   "outputs": [],
   "source": [
    "import pandas as pd\n",
    "from sklearn.model_selection import train_test_split, cross_val_score, StratifiedKFold\n",
    "from sklearn.linear_model import LogisticRegression\n",
    "from sklearn.metrics import classification_report, accuracy_score\n",
    "from sklearn.preprocessing import OneHotEncoder, StandardScaler, KBinsDiscretizer\n",
    "from sklearn.compose import ColumnTransformer\n",
    "from sklearn.pipeline import Pipeline\n",
    "from sklearn.impute import SimpleImputer"
   ]
  },
  {
   "cell_type": "code",
   "execution_count": 2,
   "metadata": {},
   "outputs": [],
   "source": [
    "file_name = 'LoanExport.csv'\n",
    "loan_data = pd.read_csv(file_name, low_memory=False)"
   ]
  },
  {
   "cell_type": "code",
   "execution_count": 3,
   "metadata": {},
   "outputs": [],
   "source": [
    "loan_data = loan_data.drop(columns=['SellerName'])"
   ]
  },
  {
   "cell_type": "code",
   "execution_count": 4,
   "metadata": {},
   "outputs": [],
   "source": [
    "numerical_features = loan_data.select_dtypes(include=['int64', 'float64']).columns.tolist()\n",
    "categorical_features = loan_data.select_dtypes(include=['object', 'bool']).columns.tolist()\n"
   ]
  },
  {
   "cell_type": "code",
   "execution_count": 5,
   "metadata": {},
   "outputs": [],
   "source": [
    "numerical_features.remove('EverDelinquent') if 'EverDelinquent' in numerical_features else None\n",
    "categorical_features.remove('EverDelinquent') if 'EverDelinquent' in categorical_features else None\n"
   ]
  },
  {
   "cell_type": "code",
   "execution_count": 6,
   "metadata": {},
   "outputs": [],
   "source": [
    "discrete_columns = ['CreditScore', 'DTI', 'OrigLoanTerm']"
   ]
  },
  {
   "cell_type": "code",
   "execution_count": 7,
   "metadata": {},
   "outputs": [],
   "source": [
    "numerical_transformer = Pipeline(steps=[\n",
    "    ('imputer', SimpleImputer(strategy='mean')),\n",
    "    ('scaler', StandardScaler())\n",
    "])\n"
   ]
  },
  {
   "cell_type": "code",
   "execution_count": 8,
   "metadata": {},
   "outputs": [],
   "source": [
    "categorical_transformer = Pipeline(steps=[\n",
    "    ('imputer', SimpleImputer(strategy='most_frequent')),\n",
    "    ('onehot', OneHotEncoder(handle_unknown='ignore'))\n",
    "])\n"
   ]
  },
  {
   "cell_type": "code",
   "execution_count": 9,
   "metadata": {},
   "outputs": [],
   "source": [
    "\n",
    "discrete_transformer = Pipeline(steps=[\n",
    "    ('imputer', SimpleImputer(strategy='mean')),\n",
    "    ('binning', KBinsDiscretizer(n_bins=10, encode='ordinal', strategy='uniform')),\n",
    "    ('scaler', StandardScaler())\n",
    "])"
   ]
  },
  {
   "cell_type": "code",
   "execution_count": 10,
   "metadata": {},
   "outputs": [],
   "source": [
    "preprocessor = ColumnTransformer(\n",
    "    transformers=[\n",
    "        ('num', numerical_transformer, [col for col in numerical_features if col not in discrete_columns]),\n",
    "        ('discrete', discrete_transformer, discrete_columns),\n",
    "        ('cat', categorical_transformer, categorical_features)\n",
    "    ])\n"
   ]
  },
  {
   "cell_type": "code",
   "execution_count": 11,
   "metadata": {},
   "outputs": [],
   "source": [
    "X = loan_data.drop(columns=['EverDelinquent'])\n",
    "y = loan_data['EverDelinquent']\n",
    "\n",
    "X_train, X_test, y_train, y_test = train_test_split(X, y, test_size=0.2, random_state=42)\n"
   ]
  },
  {
   "cell_type": "code",
   "execution_count": 12,
   "metadata": {},
   "outputs": [],
   "source": [
    "model = Pipeline(steps=[('preprocessor', preprocessor),\n",
    "                        ('classifier', LogisticRegression(max_iter=2000, C=0.01, penalty='l2'))])\n"
   ]
  },
  {
   "cell_type": "code",
   "execution_count": 13,
   "metadata": {},
   "outputs": [
    {
     "name": "stdout",
     "output_type": "stream",
     "text": [
      "Cross-validation scores: [0.9251158  0.92267113 0.92400069 0.92438669 0.92340024 0.92494424\n",
      " 0.92421513 0.92593069 0.92352891 0.92378624]\n",
      "Mean CV score: 0.9241979756390462\n"
     ]
    }
   ],
   "source": [
    "cv = StratifiedKFold(n_splits=10)\n",
    "cross_val_scores = cross_val_score(model, X_train, y_train, cv=cv)\n",
    "print(\"Cross-validation scores:\", cross_val_scores)\n",
    "print(\"Mean CV score:\", cross_val_scores.mean())\n"
   ]
  },
  {
   "cell_type": "code",
   "execution_count": 14,
   "metadata": {},
   "outputs": [
    {
     "name": "stdout",
     "output_type": "stream",
     "text": [
      "Classification Report:\n",
      "               precision    recall  f1-score   support\n",
      "\n",
      "           0       0.92      1.00      0.96     46767\n",
      "           1       1.00      0.63      0.77     11524\n",
      "\n",
      "    accuracy                           0.93     58291\n",
      "   macro avg       0.96      0.81      0.86     58291\n",
      "weighted avg       0.93      0.93      0.92     58291\n",
      "\n",
      "Accuracy: 0.9260606268549175\n"
     ]
    }
   ],
   "source": [
    "model.fit(X_train, y_train)\n",
    "y_pred = model.predict(X_test)\n",
    "\n",
    "classification_report = classification_report(y_test, y_pred)\n",
    "accuracy = accuracy_score(y_test, y_pred)\n",
    "\n",
    "print(\"Classification Report:\\n\", classification_report)\n",
    "print(\"Accuracy:\", accuracy)"
   ]
  },
  {
   "cell_type": "code",
   "execution_count": null,
   "metadata": {},
   "outputs": [],
   "source": [
    "import pandas as pd\n",
    "from sklearn.model_selection import train_test_split, cross_val_score, StratifiedKFold\n",
    "from sklearn.svm import SVC\n",
    "from sklearn.metrics import classification_report, accuracy_score\n",
    "from sklearn.preprocessing import OneHotEncoder, StandardScaler, KBinsDiscretizer\n",
    "from sklearn.compose import ColumnTransformer\n",
    "from sklearn.pipeline import Pipeline\n",
    "from sklearn.impute import SimpleImputer\n",
    "\n",
    "# Load the dataset\n",
    "file_name = 'LoanExport.csv'\n",
    "loan_data = pd.read_csv(file_name, low_memory=False)\n",
    "\n",
    "# Drop the SellerName column\n",
    "loan_data = loan_data.drop(columns=['SellerName'])\n",
    "\n",
    "# Identify numerical and categorical columns\n",
    "numerical_features = loan_data.select_dtypes(include=['int64', 'float64']).columns.tolist()\n",
    "categorical_features = loan_data.select_dtypes(include=['object', 'bool']).columns.tolist()\n",
    "\n",
    "# Remove target variable from features\n",
    "numerical_features.remove('EverDelinquent') if 'EverDelinquent' in numerical_features else None\n",
    "categorical_features.remove('EverDelinquent') if 'EverDelinquent' in categorical_features else None\n",
    "\n",
    "# Identify discrete columns\n",
    "discrete_columns = ['CreditScore', 'DTI', 'OrigLoanTerm']\n",
    "\n",
    "# Handle missing values and preprocessing\n",
    "numerical_transformer = Pipeline(steps=[\n",
    "    ('imputer', SimpleImputer(strategy='mean')),\n",
    "    ('scaler', StandardScaler())\n",
    "])\n",
    "\n",
    "categorical_transformer = Pipeline(steps=[\n",
    "    ('imputer', SimpleImputer(strategy='most_frequent')),\n",
    "    ('onehot', OneHotEncoder(handle_unknown='ignore'))\n",
    "])\n",
    "\n",
    "discrete_transformer = Pipeline(steps=[\n",
    "    ('imputer', SimpleImputer(strategy='mean')),\n",
    "    ('binning', KBinsDiscretizer(n_bins=10, encode='ordinal', strategy='uniform')),\n",
    "    ('scaler', StandardScaler())\n",
    "])\n",
    "\n",
    "# Bundle preprocessing for numerical, discrete, and categorical data\n",
    "preprocessor = ColumnTransformer(\n",
    "    transformers=[\n",
    "        ('num', numerical_transformer, [col for col in numerical_features if col not in discrete_columns]),\n",
    "        ('discrete', discrete_transformer, discrete_columns),\n",
    "        ('cat', categorical_transformer, categorical_features)\n",
    "    ])\n",
    "\n",
    "# Split the data into training and testing sets\n",
    "X = loan_data.drop(columns=['EverDelinquent'])\n",
    "y = loan_data['EverDelinquent']\n",
    "\n",
    "X_train, X_test, y_train, y_test = train_test_split(X, y, test_size=0.2, random_state=42)\n",
    "\n",
    "# Create and train the SVM model pipeline\n",
    "model = Pipeline(steps=[('preprocessor', preprocessor),\n",
    "                        ('classifier', SVC(kernel='linear', C=1.0))])\n",
    "\n",
    "# Use StratifiedKFold for cross-validation to maintain class distribution\n",
    "cv = StratifiedKFold(n_splits=10)\n",
    "cross_val_scores = cross_val_score(model, X_train, y_train, cv=cv)\n",
    "print(\"Cross-validation scores:\", cross_val_scores)\n",
    "print(\"Mean CV score:\", cross_val_scores.mean())\n",
    "\n",
    "# Train the model and evaluate\n",
    "model.fit(X_train, y_train)\n",
    "y_pred = model.predict(X_test)\n",
    "\n",
    "classification_report = classification_report(y_test, y_pred)\n",
    "accuracy = accuracy_score(y_test, y_pred)\n",
    "\n",
    "print(\"Classification Report:\\n\", classification_report)\n",
    "print(\"Accuracy:\", accuracy)\n"
   ]
  }
 ],
 "metadata": {
  "kernelspec": {
   "display_name": "PYTORCHENV",
   "language": "python",
   "name": "python3"
  },
  "language_info": {
   "codemirror_mode": {
    "name": "ipython",
    "version": 3
   },
   "file_extension": ".py",
   "mimetype": "text/x-python",
   "name": "python",
   "nbconvert_exporter": "python",
   "pygments_lexer": "ipython3",
   "version": "3.12.3"
  }
 },
 "nbformat": 4,
 "nbformat_minor": 2
}
