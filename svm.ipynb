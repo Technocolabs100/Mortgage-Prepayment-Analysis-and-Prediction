{
 "cells": [
  {
   "cell_type": "code",
   "execution_count": null,
   "id": "961d262f",
   "metadata": {},
   "outputs": [],
   "source": [
    "import pandas\n",
    "import numpy\n",
    "from sklearn import svm\n",
    "import matplotlib.pyplot as plt\n",
    "from sklearn.model_selection import train_test_split\n",
    "from sklearn import metrics\n",
    "df=pandas.read_csv('algo_ready.csv')\n",
    "x=df.drop('EverDelinquent',axis=1)\n",
    "y=df['EverDelinquent']"
   ]
  },
  {
   "cell_type": "code",
   "execution_count": null,
   "id": "c1277b93",
   "metadata": {},
   "outputs": [],
   "source": [
    "x_train,x_test,y_train,y_test=train_test_split(x,y,test_size=0.3,random_state=109)\n",
    "cfr=svm.SVC(kernel='linear')\n",
    "cfr.fit(x_train,y_train)\n",
    "y_pred=cfr.predict(x_test)\n",
    "accuracy=metrics.accuracy_score(y_test,y_pred)\n",
    "print(\"Accuracy of the model is : \",accuracy,'%')"
   ]
  },
  {
   "cell_type": "code",
   "execution_count": null,
   "id": "ab92a76d",
   "metadata": {},
   "outputs": [],
   "source": [
    "confusion_matrix=metrics.confusion_matrix(y_test,y_pred)\n",
    "cm_display=metrics.ConfusionMatrixDisplay(confusion_matrix=confusion_matrix,display_labels=[0,1])\n",
    "cm_display.plot()\n",
    "plt.show()"
   ]
  }
 ],
 "metadata": {
  "jupytext": {
   "cell_metadata_filter": "-all",
   "main_language": "python",
   "notebook_metadata_filter": "-all"
  }
 },
 "nbformat": 4,
 "nbformat_minor": 5
}
