{
  "metadata": {
    "kernelspec": {
      "name": "python",
      "display_name": "Python (Pyodide)",
      "language": "python"
    },
    "language_info": {
      "codemirror_mode": {
        "name": "python",
        "version": 3
      },
      "file_extension": ".py",
      "mimetype": "text/x-python",
      "name": "python",
      "nbconvert_exporter": "python",
      "pygments_lexer": "ipython3",
      "version": "3.8"
    }
  },
  "nbformat_minor": 4,
  "nbformat": 4,
  "cells": [
    {
      "cell_type": "markdown",
      "source": "Mortgage-Prepayment-Analysis-and-Prediction",
      "metadata": {}
    },
    {
      "cell_type": "code",
      "source": "import pandas as pd\nfrom sklearn.preprocessing import OneHotEncoder, LabelEncoder\n\n#Load the dataset\ndf = pd.read_csv('LoanExport.csv')\ndf.info()\n",
      "metadata": {
        "trusted": true
      },
      "outputs": [
        {
          "name": "stderr",
          "text": "<ipython-input-14-abfb2288ef64>:5: DtypeWarning: Columns (18) have mixed types. Specify dtype option on import or set low_memory=False.\n  df = pd.read_csv('LoanExport.csv')\n",
          "output_type": "stream"
        },
        {
          "name": "stdout",
          "text": "<class 'pandas.core.frame.DataFrame'>\nRangeIndex: 291451 entries, 0 to 291450\nData columns (total 28 columns):\n #   Column              Non-Null Count   Dtype  \n---  ------              --------------   -----  \n 0   CreditScore         291451 non-null  int64  \n 1   FirstPaymentDate    291451 non-null  int64  \n 2   FirstTimeHomebuyer  291451 non-null  object \n 3   MaturityDate        291451 non-null  int64  \n 4   MSA                 291451 non-null  object \n 5   MIP                 291451 non-null  int64  \n 6   Units               291451 non-null  int64  \n 7   Occupancy           291451 non-null  object \n 8   OCLTV               291451 non-null  int64  \n 9   DTI                 291451 non-null  int64  \n 10  OrigUPB             291451 non-null  int64  \n 11  LTV                 291451 non-null  int64  \n 12  OrigInterestRate    291451 non-null  float64\n 13  Channel             291451 non-null  object \n 14  PPM                 291451 non-null  object \n 15  ProductType         291451 non-null  object \n 16  PropertyState       291451 non-null  object \n 17  PropertyType        291451 non-null  object \n 18  PostalCode          291451 non-null  object \n 19  LoanSeqNum          291451 non-null  object \n 20  LoanPurpose         291451 non-null  object \n 21  OrigLoanTerm        291451 non-null  int64  \n 22  NumBorrowers        291451 non-null  object \n 23  SellerName          266457 non-null  object \n 24  ServicerName        291451 non-null  object \n 25  EverDelinquent      291451 non-null  int64  \n 26  MonthsDelinquent    291451 non-null  int64  \n 27  MonthsInRepayment   291451 non-null  int64  \ndtypes: float64(1), int64(13), object(14)\nmemory usage: 46.7+ MB\n",
          "output_type": "stream"
        }
      ],
      "execution_count": 14
    },
    {
      "cell_type": "code",
      "source": "print(df.head(10))\n",
      "metadata": {
        "trusted": true
      },
      "outputs": [
        {
          "name": "stdout",
          "text": "   CreditScore  FirstPaymentDate FirstTimeHomebuyer  MaturityDate    MSA  MIP  \\\n0            0            199902                  N        202901  16974   25   \n1            0            199902                  N        202901  19740    0   \n2            0            199902                  N        202901  29940    0   \n3            0            199902                  N        202901  31084    0   \n4            0            199902                  N        202901  35644    0   \n5            0            199902                  N        202901  X       25   \n6            0            199902                  N        202901  X       25   \n7            0            199902                  X        202901  36740    0   \n8            0            199902                  Y        202710  25540   30   \n9            0            199902                  Y        202901  48620   30   \n\n   Units Occupancy  OCLTV  DTI  ...  PostalCode    LoanSeqNum  LoanPurpose  \\\n0      1         O     89   27  ...       60400  F199Q1268030            P   \n1      1         O     73   17  ...       80200  F199Q1015092            N   \n2      1         O     75   16  ...       66000  F199Q1266886            N   \n3      1         O     76   14  ...       90700  F199Q1178167            N   \n4      1         O     78   18  ...        7600  F199Q1178517            N   \n5      1         O     89   40  ...       80400  F199Q1224802            N   \n6      1         O     90   21  ...       53100  F199Q1291436            P   \n7      1         O     72   20  ...       32800  F199Q1001824            N   \n8      1         O     95   38  ...        6400  F199Q1079744            P   \n9      1         O     95   27  ...       67000  F199Q1196318            P   \n\n  OrigLoanTerm NumBorrowers SellerName          ServicerName EverDelinquent  \\\n0          360            2         FL  WASHINGTONMUTUALBANK              0   \n1          360            1         FT  CHASEHOMEFINANCELLC               0   \n2          360            2         FL  WASHINGTONMUTUALBANK              0   \n3          360            2         GM  GMACMTGECORP                      0   \n4          360            2         GM  GMACMTGECORP                      0   \n5          360            2         Ot  Other servicers                   0   \n6          360            1         RE  Other servicers                   0   \n7          360            1         NO   WELLSFARGOBANKNA                 1   \n8          345            1         Ot  Other servicers                   0   \n9          360            1         Ot   WELLSFARGOBANKNA                 1   \n\n  MonthsDelinquent MonthsInRepayment  \n0                0                52  \n1                0               144  \n2                0                67  \n3                0                35  \n4                0                54  \n5                0                42  \n6                0                44  \n7                3               145  \n8                0                64  \n9              104               212  \n\n[10 rows x 28 columns]\n",
          "output_type": "stream"
        }
      ],
      "execution_count": 15
    },
    {
      "cell_type": "code",
      "source": "\nprint(df.shape)",
      "metadata": {
        "trusted": true
      },
      "outputs": [
        {
          "name": "stdout",
          "text": "(291451, 28)\n",
          "output_type": "stream"
        }
      ],
      "execution_count": 16
    },
    {
      "cell_type": "code",
      "source": "missing_values = df.isnull().sum()\nprint(missing_values)\nmissing_values = df[df.isnull().any(axis=1)]\nprint(missing_values)",
      "metadata": {
        "trusted": true
      },
      "outputs": [
        {
          "name": "stdout",
          "text": "CreditScore               0\nFirstPaymentDate          0\nFirstTimeHomebuyer        0\nMaturityDate              0\nMSA                       0\nMIP                       0\nUnits                     0\nOccupancy                 0\nOCLTV                     0\nDTI                       0\nOrigUPB                   0\nLTV                       0\nOrigInterestRate          0\nChannel                   0\nPPM                       0\nProductType               0\nPropertyState             0\nPropertyType              0\nPostalCode                0\nLoanSeqNum                0\nLoanPurpose               0\nOrigLoanTerm              0\nNumBorrowers              0\nSellerName            24994\nServicerName              0\nEverDelinquent            0\nMonthsDelinquent          0\nMonthsInRepayment         0\ndtype: int64\n        CreditScore  FirstPaymentDate FirstTimeHomebuyer  MaturityDate    MSA  \\\n32                0            199903                  N        202902  17900   \n37                0            199903                  N        202902  20500   \n38                0            199903                  N        202902  20764   \n40                0            199903                  N        202902  20764   \n44                0            199903                  N        202902  22744   \n...             ...               ...                ...           ...    ...   \n291359          816            199905                  N        202904  X       \n291374          817            199905                  N        202904  X       \n291384          818            199904                  N        202903  41740   \n291403          819            199904                  N        202903  19380   \n291415          819            199905                  N        202904  42044   \n\n        MIP  Units Occupancy  OCLTV  DTI  ...  PostalCode    LoanSeqNum  \\\n32       30      1         O     95   18  ...       29000  F199Q1237803   \n37       25      1         O     90   29  ...       27500  F199Q1238547   \n38        0      1         I     85   46  ...        7700  F199Q1219516   \n40       30      1         O     95   21  ...        7700  F199Q1005696   \n44       30      1         O     95   35  ...       33000  F199Q1005620   \n...     ...    ...       ...    ...  ...  ...         ...           ...   \n291359   33      1         O    100    0  ...       75000  F199Q1401276   \n291374    0      1         O     35   10  ...       61400  F199Q1250721   \n291384    0      1         O     45   30  ...       92000  F199Q1365386   \n291403    0      1         O     75   53  ...       45400  F199Q1101670   \n291415    0      1         O     33   22  ...       92600  F199Q1366699   \n\n        LoanPurpose OrigLoanTerm NumBorrowers SellerName  \\\n32                P          360            1        NaN   \n37                P          360            1        NaN   \n38                P          360            1        NaN   \n40                P          360            1        NaN   \n44                P          360            2        NaN   \n...             ...          ...          ...        ...   \n291359            P          360            1        NaN   \n291374            P          360            2        NaN   \n291384            N          360            1        NaN   \n291403            P          360            1        NaN   \n291415            C          360            1        NaN   \n\n                ServicerName EverDelinquent MonthsDelinquent MonthsInRepayment  \n32       BAMORTGAGELLC                    0                0                46  \n37       BAMORTGAGELLC                    1                2                50  \n38      NATLCITYMTGECO                    0                0                24  \n40      NATLCITYMTGECO                    0                0                28  \n44      NATLCITYMTGECO                    1                2                39  \n...                      ...            ...              ...               ...  \n291359  Other servicers                   1                1                42  \n291374  NATLCITYMTGECO                    0                0                13  \n291384   BANKOFAMERICANA                  0                0                54  \n291403  Other servicers                   0                0                 2  \n291415   BANKOFAMERICANA                  0                0               149  \n\n[24994 rows x 28 columns]\n",
          "output_type": "stream"
        }
      ],
      "execution_count": 18
    },
    {
      "cell_type": "code",
      "source": "df.isnull()\n",
      "metadata": {
        "trusted": true
      },
      "outputs": [
        {
          "execution_count": 17,
          "output_type": "execute_result",
          "data": {
            "text/plain": "        CreditScore  FirstPaymentDate  FirstTimeHomebuyer  MaturityDate  \\\n0             False             False               False         False   \n1             False             False               False         False   \n2             False             False               False         False   \n3             False             False               False         False   \n4             False             False               False         False   \n...             ...               ...                 ...           ...   \n291446        False             False               False         False   \n291447        False             False               False         False   \n291448        False             False               False         False   \n291449        False             False               False         False   \n291450        False             False               False         False   \n\n          MSA    MIP  Units  Occupancy  OCLTV    DTI  ...  PostalCode  \\\n0       False  False  False      False  False  False  ...       False   \n1       False  False  False      False  False  False  ...       False   \n2       False  False  False      False  False  False  ...       False   \n3       False  False  False      False  False  False  ...       False   \n4       False  False  False      False  False  False  ...       False   \n...       ...    ...    ...        ...    ...    ...  ...         ...   \n291446  False  False  False      False  False  False  ...       False   \n291447  False  False  False      False  False  False  ...       False   \n291448  False  False  False      False  False  False  ...       False   \n291449  False  False  False      False  False  False  ...       False   \n291450  False  False  False      False  False  False  ...       False   \n\n        LoanSeqNum  LoanPurpose  OrigLoanTerm  NumBorrowers  SellerName  \\\n0            False        False         False         False       False   \n1            False        False         False         False       False   \n2            False        False         False         False       False   \n3            False        False         False         False       False   \n4            False        False         False         False       False   \n...            ...          ...           ...           ...         ...   \n291446       False        False         False         False       False   \n291447       False        False         False         False       False   \n291448       False        False         False         False       False   \n291449       False        False         False         False       False   \n291450       False        False         False         False       False   \n\n        ServicerName  EverDelinquent  MonthsDelinquent  MonthsInRepayment  \n0              False           False             False              False  \n1              False           False             False              False  \n2              False           False             False              False  \n3              False           False             False              False  \n4              False           False             False              False  \n...              ...             ...               ...                ...  \n291446         False           False             False              False  \n291447         False           False             False              False  \n291448         False           False             False              False  \n291449         False           False             False              False  \n291450         False           False             False              False  \n\n[291451 rows x 28 columns]",
            "text/html": "<div>\n<style scoped>\n    .dataframe tbody tr th:only-of-type {\n        vertical-align: middle;\n    }\n\n    .dataframe tbody tr th {\n        vertical-align: top;\n    }\n\n    .dataframe thead th {\n        text-align: right;\n    }\n</style>\n<table border=\"1\" class=\"dataframe\">\n  <thead>\n    <tr style=\"text-align: right;\">\n      <th></th>\n      <th>CreditScore</th>\n      <th>FirstPaymentDate</th>\n      <th>FirstTimeHomebuyer</th>\n      <th>MaturityDate</th>\n      <th>MSA</th>\n      <th>MIP</th>\n      <th>Units</th>\n      <th>Occupancy</th>\n      <th>OCLTV</th>\n      <th>DTI</th>\n      <th>...</th>\n      <th>PostalCode</th>\n      <th>LoanSeqNum</th>\n      <th>LoanPurpose</th>\n      <th>OrigLoanTerm</th>\n      <th>NumBorrowers</th>\n      <th>SellerName</th>\n      <th>ServicerName</th>\n      <th>EverDelinquent</th>\n      <th>MonthsDelinquent</th>\n      <th>MonthsInRepayment</th>\n    </tr>\n  </thead>\n  <tbody>\n    <tr>\n      <th>0</th>\n      <td>False</td>\n      <td>False</td>\n      <td>False</td>\n      <td>False</td>\n      <td>False</td>\n      <td>False</td>\n      <td>False</td>\n      <td>False</td>\n      <td>False</td>\n      <td>False</td>\n      <td>...</td>\n      <td>False</td>\n      <td>False</td>\n      <td>False</td>\n      <td>False</td>\n      <td>False</td>\n      <td>False</td>\n      <td>False</td>\n      <td>False</td>\n      <td>False</td>\n      <td>False</td>\n    </tr>\n    <tr>\n      <th>1</th>\n      <td>False</td>\n      <td>False</td>\n      <td>False</td>\n      <td>False</td>\n      <td>False</td>\n      <td>False</td>\n      <td>False</td>\n      <td>False</td>\n      <td>False</td>\n      <td>False</td>\n      <td>...</td>\n      <td>False</td>\n      <td>False</td>\n      <td>False</td>\n      <td>False</td>\n      <td>False</td>\n      <td>False</td>\n      <td>False</td>\n      <td>False</td>\n      <td>False</td>\n      <td>False</td>\n    </tr>\n    <tr>\n      <th>2</th>\n      <td>False</td>\n      <td>False</td>\n      <td>False</td>\n      <td>False</td>\n      <td>False</td>\n      <td>False</td>\n      <td>False</td>\n      <td>False</td>\n      <td>False</td>\n      <td>False</td>\n      <td>...</td>\n      <td>False</td>\n      <td>False</td>\n      <td>False</td>\n      <td>False</td>\n      <td>False</td>\n      <td>False</td>\n      <td>False</td>\n      <td>False</td>\n      <td>False</td>\n      <td>False</td>\n    </tr>\n    <tr>\n      <th>3</th>\n      <td>False</td>\n      <td>False</td>\n      <td>False</td>\n      <td>False</td>\n      <td>False</td>\n      <td>False</td>\n      <td>False</td>\n      <td>False</td>\n      <td>False</td>\n      <td>False</td>\n      <td>...</td>\n      <td>False</td>\n      <td>False</td>\n      <td>False</td>\n      <td>False</td>\n      <td>False</td>\n      <td>False</td>\n      <td>False</td>\n      <td>False</td>\n      <td>False</td>\n      <td>False</td>\n    </tr>\n    <tr>\n      <th>4</th>\n      <td>False</td>\n      <td>False</td>\n      <td>False</td>\n      <td>False</td>\n      <td>False</td>\n      <td>False</td>\n      <td>False</td>\n      <td>False</td>\n      <td>False</td>\n      <td>False</td>\n      <td>...</td>\n      <td>False</td>\n      <td>False</td>\n      <td>False</td>\n      <td>False</td>\n      <td>False</td>\n      <td>False</td>\n      <td>False</td>\n      <td>False</td>\n      <td>False</td>\n      <td>False</td>\n    </tr>\n    <tr>\n      <th>...</th>\n      <td>...</td>\n      <td>...</td>\n      <td>...</td>\n      <td>...</td>\n      <td>...</td>\n      <td>...</td>\n      <td>...</td>\n      <td>...</td>\n      <td>...</td>\n      <td>...</td>\n      <td>...</td>\n      <td>...</td>\n      <td>...</td>\n      <td>...</td>\n      <td>...</td>\n      <td>...</td>\n      <td>...</td>\n      <td>...</td>\n      <td>...</td>\n      <td>...</td>\n      <td>...</td>\n    </tr>\n    <tr>\n      <th>291446</th>\n      <td>False</td>\n      <td>False</td>\n      <td>False</td>\n      <td>False</td>\n      <td>False</td>\n      <td>False</td>\n      <td>False</td>\n      <td>False</td>\n      <td>False</td>\n      <td>False</td>\n      <td>...</td>\n      <td>False</td>\n      <td>False</td>\n      <td>False</td>\n      <td>False</td>\n      <td>False</td>\n      <td>False</td>\n      <td>False</td>\n      <td>False</td>\n      <td>False</td>\n      <td>False</td>\n    </tr>\n    <tr>\n      <th>291447</th>\n      <td>False</td>\n      <td>False</td>\n      <td>False</td>\n      <td>False</td>\n      <td>False</td>\n      <td>False</td>\n      <td>False</td>\n      <td>False</td>\n      <td>False</td>\n      <td>False</td>\n      <td>...</td>\n      <td>False</td>\n      <td>False</td>\n      <td>False</td>\n      <td>False</td>\n      <td>False</td>\n      <td>False</td>\n      <td>False</td>\n      <td>False</td>\n      <td>False</td>\n      <td>False</td>\n    </tr>\n    <tr>\n      <th>291448</th>\n      <td>False</td>\n      <td>False</td>\n      <td>False</td>\n      <td>False</td>\n      <td>False</td>\n      <td>False</td>\n      <td>False</td>\n      <td>False</td>\n      <td>False</td>\n      <td>False</td>\n      <td>...</td>\n      <td>False</td>\n      <td>False</td>\n      <td>False</td>\n      <td>False</td>\n      <td>False</td>\n      <td>False</td>\n      <td>False</td>\n      <td>False</td>\n      <td>False</td>\n      <td>False</td>\n    </tr>\n    <tr>\n      <th>291449</th>\n      <td>False</td>\n      <td>False</td>\n      <td>False</td>\n      <td>False</td>\n      <td>False</td>\n      <td>False</td>\n      <td>False</td>\n      <td>False</td>\n      <td>False</td>\n      <td>False</td>\n      <td>...</td>\n      <td>False</td>\n      <td>False</td>\n      <td>False</td>\n      <td>False</td>\n      <td>False</td>\n      <td>False</td>\n      <td>False</td>\n      <td>False</td>\n      <td>False</td>\n      <td>False</td>\n    </tr>\n    <tr>\n      <th>291450</th>\n      <td>False</td>\n      <td>False</td>\n      <td>False</td>\n      <td>False</td>\n      <td>False</td>\n      <td>False</td>\n      <td>False</td>\n      <td>False</td>\n      <td>False</td>\n      <td>False</td>\n      <td>...</td>\n      <td>False</td>\n      <td>False</td>\n      <td>False</td>\n      <td>False</td>\n      <td>False</td>\n      <td>False</td>\n      <td>False</td>\n      <td>False</td>\n      <td>False</td>\n      <td>False</td>\n    </tr>\n  </tbody>\n</table>\n<p>291451 rows × 28 columns</p>\n</div>"
          },
          "metadata": {}
        }
      ],
      "execution_count": 17
    },
    {
      "cell_type": "markdown",
      "source": "Count Missing Values in Each Column:",
      "metadata": {}
    },
    {
      "cell_type": "code",
      "source": "duplicates = df.duplicated().sum()\nprint(f\"Number of duplicate rows: {duplicates}\")\n#Identify duplicate rows\nduplicates = df[df.duplicated()]\nprint(duplicates)",
      "metadata": {
        "trusted": true
      },
      "outputs": [
        {
          "name": "stdout",
          "text": "Number of duplicate rows: 0\nEmpty DataFrame\nColumns: [CreditScore, FirstPaymentDate, FirstTimeHomebuyer, MaturityDate, MSA, MIP, Units, Occupancy, OCLTV, DTI, OrigUPB, LTV, OrigInterestRate, Channel, PPM, ProductType, PropertyState, PropertyType, PostalCode, LoanSeqNum, LoanPurpose, OrigLoanTerm, NumBorrowers, SellerName, ServicerName, EverDelinquent, MonthsDelinquent, MonthsInRepayment]\nIndex: []\n\n[0 rows x 28 columns]\n",
          "output_type": "stream"
        }
      ],
      "execution_count": 11
    },
    {
      "cell_type": "code",
      "source": "#Check if the DataFrame is empty\nif df.empty:\n    print(\"The DataFrame is empty.\")\nelse:\n    print(df.head()) ",
      "metadata": {
        "trusted": true
      },
      "outputs": [
        {
          "name": "stdout",
          "text": "   CreditScore  FirstPaymentDate FirstTimeHomebuyer  MaturityDate    MSA  MIP  \\\n0            0                68                  N        202901  16974   25   \n1            0                95                  N        202901  19740    0   \n2            0               198                  N        202901  29940    0   \n3            0               210                  N        202901  31084    0   \n4            0               250                  N        202901  35644    0   \n\n   Units Occupancy  OCLTV  DTI  ...    LoanSeqNum  LoanPurpose  OrigLoanTerm  \\\n0      1         O     89   27  ...  F199Q1268030            P           360   \n1      1         O     73   17  ...  F199Q1015092            N           360   \n2      1         O     75   16  ...  F199Q1266886            N           360   \n3      1         O     76   14  ...  F199Q1178167            N           360   \n4      1         O     78   18  ...  F199Q1178517            N           360   \n\n  NumBorrowers SellerName          ServicerName EverDelinquent  \\\n0            2         FL  WASHINGTONMUTUALBANK              0   \n1            1         FT  CHASEHOMEFINANCELLC               0   \n2            2         FL  WASHINGTONMUTUALBANK              0   \n3            2         GM  GMACMTGECORP                      0   \n4            2         GM  GMACMTGECORP                      0   \n\n  MonthsDelinquent MonthsInRepayment encoded_column  \n0                0                52             58  \n1                0               144             58  \n2                0                67             58  \n3                0                35             58  \n4                0                54             58  \n\n[5 rows x 29 columns]\n",
          "output_type": "stream"
        }
      ],
      "execution_count": 27
    },
    {
      "cell_type": "code",
      "source": "#Identify categorical columns\ncategorical_columns = df.select_dtypes(include=['object']).columns\nprint(\"Categorical columns:\", categorical_columns)\nfor col in categorical_columns:\n    df[col] = df[col].astype(str)\n\nlabel_encoder = LabelEncoder()\n\n#Apply Label Encoding to each categorical column\nfor col in categorical_columns:\n    df[col] = label_encoder.fit_transform(df[col])\n\nprint(df.head())\n\n\n\n",
      "metadata": {
        "trusted": true
      },
      "outputs": [
        {
          "name": "stdout",
          "text": "Categorical columns: Index(['PostalCode', 'LoanSeqNum', 'LoanPurpose', 'NumBorrowers', 'SellerName',\n       'ServicerName'],\n      dtype='object')\n   CreditScore  FirstPaymentDate  FirstTimeHomebuyer  MaturityDate  MSA  MIP  \\\n0            0                68                   0        202901   68   25   \n1            0                95                   0        202901   95    0   \n2            0               198                   0        202901  198    0   \n3            0               210                   0        202901  210    0   \n4            0               250                   0        202901  250    0   \n\n   Units  Occupancy  OCLTV  DTI  ...  LoanSeqNum  LoanPurpose  OrigLoanTerm  \\\n0      1          1     89   27  ...      177680            2           360   \n1      1          1     73   17  ...        7145            1           360   \n2      1          1     75   16  ...      176597            1           360   \n3      1          1     76   14  ...      116959            1           360   \n4      1          1     78   18  ...      117300            1           360   \n\n   NumBorrowers  SellerName  ServicerName  EverDelinquent  MonthsDelinquent  \\\n0             1           7            17               0                 0   \n1             0           8             3               0                 0   \n2             1           7            17               0                 0   \n3             1          10            10               0                 0   \n4             1          10            10               0                 0   \n\n   MonthsInRepayment  encoded_column  \n0                 52              58  \n1                144              58  \n2                 67              58  \n3                 35              58  \n4                 54              58  \n\n[5 rows x 29 columns]\n",
          "output_type": "stream"
        }
      ],
      "execution_count": 30
    },
    {
      "cell_type": "code",
      "source": "\n#Initialize the LabelEncoder\nlabel_encoder = LabelEncoder()\n\n# Apply Label Encoding to each categorical column\nfor col in ['PostalCode', 'LoanSeqNum', 'LoanPurpose', 'NumBorrowers', 'SellerName', 'ServicerName']:\n    df[col] = label_encoder.fit_transform(df[col])\n\nprint(df.head())",
      "metadata": {
        "trusted": true
      },
      "outputs": [
        {
          "name": "stdout",
          "text": "   CreditScore  FirstPaymentDate  FirstTimeHomebuyer  MaturityDate  MSA  MIP  \\\n0            0                68                   0        202901   68   25   \n1            0                95                   0        202901   95    0   \n2            0               198                   0        202901  198    0   \n3            0               210                   0        202901  210    0   \n4            0               250                   0        202901  250    0   \n\n   Units  Occupancy  OCLTV  DTI  ...  LoanSeqNum  LoanPurpose  OrigLoanTerm  \\\n0      1          1     89   27  ...      177680            2           360   \n1      1          1     73   17  ...        7145            1           360   \n2      1          1     75   16  ...      176597            1           360   \n3      1          1     76   14  ...      116959            1           360   \n4      1          1     78   18  ...      117300            1           360   \n\n   NumBorrowers  SellerName  ServicerName  EverDelinquent  MonthsDelinquent  \\\n0             1           7            17               0                 0   \n1             0           8             3               0                 0   \n2             1           7            17               0                 0   \n3             1          10            10               0                 0   \n4             1          10            10               0                 0   \n\n   MonthsInRepayment  encoded_column  \n0                 52              58  \n1                144              58  \n2                 67              58  \n3                 35              58  \n4                 54              58  \n\n[5 rows x 29 columns]\n",
          "output_type": "stream"
        }
      ],
      "execution_count": 31
    },
    {
      "cell_type": "markdown",
      "source": " data encoding like label encoding and one hot encoding:",
      "metadata": {}
    },
    {
      "cell_type": "code",
      "source": "from sklearn.preprocessing import LabelEncoder\n\n#Set a threshold for cardinality, e.g., columns with more than 100 unique values\nhigh_cardinality_threshold = 100\n\n#Initialize LabelEncoder\nlabel_encoder = LabelEncoder()\n\nfor col in ['PostalCode', 'LoanSeqNum', 'LoanPurpose', 'NumBorrowers', 'SellerName', 'ServicerName']:\n    if df[col].nunique() > high_cardinality_threshold:\n        # Apply Label Encoding for high cardinality columns\n        df[col] = label_encoder.fit_transform(df[col])\n    else:\n        # Apply One-Hot Encoding for lower cardinality columns\n        df = pd.get_dummies(df, columns=[col], drop_first=True)\n\nprint(df.head())\n\n",
      "metadata": {
        "trusted": true
      },
      "outputs": [
        {
          "name": "stdout",
          "text": "   CreditScore  FirstPaymentDate  FirstTimeHomebuyer  MaturityDate  MSA  MIP  \\\n0            0                68                   0        202901   68   25   \n1            0                95                   0        202901   95    0   \n2            0               198                   0        202901  198    0   \n3            0               210                   0        202901  210    0   \n4            0               250                   0        202901  250    0   \n\n   Units  Occupancy  OCLTV  DTI  ...  ServicerName_10  ServicerName_11  \\\n0      1          1     89   27  ...            False            False   \n1      1          1     73   17  ...            False            False   \n2      1          1     75   16  ...            False            False   \n3      1          1     76   14  ...             True            False   \n4      1          1     78   18  ...             True            False   \n\n   ServicerName_12  ServicerName_13  ServicerName_14  ServicerName_15  \\\n0            False            False            False            False   \n1            False            False            False            False   \n2            False            False            False            False   \n3            False            False            False            False   \n4            False            False            False            False   \n\n   ServicerName_16  ServicerName_17  ServicerName_18  ServicerName_19  \n0            False             True            False            False  \n1            False            False            False            False  \n2            False             True            False            False  \n3            False            False            False            False  \n4            False            False            False            False  \n\n[5 rows x 68 columns]\n",
          "output_type": "stream"
        }
      ],
      "execution_count": 33
    },
    {
      "cell_type": "code",
      "source": "from sklearn.model_selection import train_test_split\nfrom sklearn.preprocessing import StandardScaler\n\nprint(df.columns)\n\n\n#Assuming 'target' is the name of your target column\nX = df.drop('EverDelinquent', axis=1)\ny = df['EverDelinquent']\n\n#Split the data into training and testing sets\nX_train, X_test, y_train, y_test = train_test_split(X, y, test_size=0.3, random_state=42)\n\n#Initialize and apply StandardScaler\nscaler = StandardScaler()\nX_train_scaled = scaler.fit_transform(X_train)\nX_test_scaled = scaler.transform(X_test)\n\nprint(\"Data preparation completed. Ready for model building.\")\n",
      "metadata": {
        "trusted": true
      },
      "outputs": [
        {
          "name": "stdout",
          "text": "Index(['CreditScore', 'FirstPaymentDate', 'FirstTimeHomebuyer', 'MaturityDate',\n       'MSA', 'MIP', 'Units', 'Occupancy', 'OCLTV', 'DTI', 'OrigUPB', 'LTV',\n       'OrigInterestRate', 'Channel', 'PPM', 'ProductType', 'PropertyState',\n       'PropertyType', 'PostalCode', 'LoanSeqNum', 'OrigLoanTerm',\n       'EverDelinquent', 'MonthsDelinquent', 'MonthsInRepayment',\n       'encoded_column', 'LoanPurpose_1', 'LoanPurpose_2', 'NumBorrowers_1',\n       'NumBorrowers_2', 'SellerName_1', 'SellerName_2', 'SellerName_3',\n       'SellerName_4', 'SellerName_5', 'SellerName_6', 'SellerName_7',\n       'SellerName_8', 'SellerName_9', 'SellerName_10', 'SellerName_11',\n       'SellerName_12', 'SellerName_13', 'SellerName_14', 'SellerName_15',\n       'SellerName_16', 'SellerName_17', 'SellerName_18', 'SellerName_19',\n       'SellerName_20', 'ServicerName_1', 'ServicerName_2', 'ServicerName_3',\n       'ServicerName_4', 'ServicerName_5', 'ServicerName_6', 'ServicerName_7',\n       'ServicerName_8', 'ServicerName_9', 'ServicerName_10',\n       'ServicerName_11', 'ServicerName_12', 'ServicerName_13',\n       'ServicerName_14', 'ServicerName_15', 'ServicerName_16',\n       'ServicerName_17', 'ServicerName_18', 'ServicerName_19'],\n      dtype='object')\nData preparation completed. Ready for model building.\n",
          "output_type": "stream"
        }
      ],
      "execution_count": 36
    },
    {
      "cell_type": "markdown",
      "source": "1. Perform regression and classification Models: \n2. Generate reports highlighting Confusion matrix and accuracy results.",
      "metadata": {}
    },
    {
      "cell_type": "code",
      "source": "from sklearn.linear_model import LogisticRegression\nfrom sklearn.metrics import accuracy_score, classification_report, confusion_matrix\n\n# Initialize and fit the Logistic Regression model\nmodel = LogisticRegression(random_state=42)\nmodel.fit(X_train_scaled, y_train)\n\n# Make predictions\ny_pred = model.predict(X_test_scaled)\n\n# Evaluate the model\naccuracy = accuracy_score(y_test, y_pred)\nconf_matrix = confusion_matrix(y_test, y_pred)\nclass_report = classification_report(y_test, y_pred)\n\nprint(f\"Accuracy: {accuracy}\")\nprint(\"Confusion Matrix:\")\nprint(conf_matrix)\nprint(\"Classification Report:\")\nprint(class_report)\n",
      "metadata": {
        "trusted": true
      },
      "outputs": [],
      "execution_count": null
    }
  ]
}