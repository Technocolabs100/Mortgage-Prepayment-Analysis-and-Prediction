{
 "cells": [
  {
   "cell_type": "code",
   "execution_count": null,
   "id": "e1735f02",
   "metadata": {},
   "outputs": [],
   "source": [
    "import pandas\n",
    "import datetime\n",
    "df=pandas.read_csv('LoanExport.csv',low_memory=False)"
   ]
  },
  {
   "cell_type": "code",
   "execution_count": null,
   "id": "44715fb5",
   "metadata": {},
   "outputs": [],
   "source": [
    "#CreditScore column\n",
    "df['CreditScore']=pandas.to_numeric(df['CreditScore'],errors='coerce')\n",
    "df.dropna(inplace=True)"
   ]
  },
  {
   "cell_type": "code",
   "execution_count": null,
   "id": "43568968",
   "metadata": {},
   "outputs": [],
   "source": [
    "#FirstPaymentDate column\n",
    "df['FirstPaymentDate']=pandas.to_numeric(df['FirstPaymentDate'],errors='coerce')\n",
    "df.dropna(inplace=True)\n",
    "df['FirstPaymentDate']=((df['FirstPaymentDate']*100)+1)\n",
    "df['FirstPaymentDate']=df['FirstPaymentDate'].astype(str)\n",
    "df['FirstPaymentDate']=pandas.to_datetime(df['FirstPaymentDate'],format='%Y%m%d')"
   ]
  },
  {
   "cell_type": "code",
   "execution_count": null,
   "id": "194debe4",
   "metadata": {},
   "outputs": [],
   "source": [
    "#FirstTimeHomebuyer column\n",
    "df.loc[df['FirstTimeHomebuyer']=='N','FirstTimeHomebuyer']=0\n",
    "df.loc[df['FirstTimeHomebuyer']=='Y','FirstTimeHomebuyer']=1\n",
    "df.loc[df['FirstTimeHomebuyer']=='X','FirstTimeHomebuyer']=float('NaN')\n",
    "df.dropna(inplace=True)"
   ]
  },
  {
   "cell_type": "code",
   "execution_count": null,
   "id": "ff34eb50",
   "metadata": {},
   "outputs": [],
   "source": [
    "#MaturityDate column\n",
    "df['MaturityDate']=pandas.to_numeric(df['MaturityDate'],errors='coerce')\n",
    "df.dropna(inplace=True)\n",
    "df['MaturityDate']=((df['MaturityDate']*100) + 1)\n",
    "df['MaturityDate']=df['MaturityDate'].astype(str)\n",
    "df['MaturityDate']=pandas.to_datetime(df['MaturityDate'],format='%Y%m%d')"
   ]
  },
  {
   "cell_type": "code",
   "execution_count": null,
   "id": "64e438d6",
   "metadata": {},
   "outputs": [],
   "source": [
    "#MSA column\n",
    "df['MSA']=pandas.to_numeric(df['MSA'],errors='coerce')\n",
    "df.dropna(inplace=True)"
   ]
  },
  {
   "cell_type": "code",
   "execution_count": null,
   "id": "b074ac0a",
   "metadata": {},
   "outputs": [],
   "source": [
    "#MIP column\n",
    "df['MIP']=pandas.to_numeric(df['MIP'],errors='coerce')\n",
    "df.dropna(inplace=True)"
   ]
  },
  {
   "cell_type": "code",
   "execution_count": null,
   "id": "b2306543",
   "metadata": {},
   "outputs": [],
   "source": [
    "#Units column\n",
    "df['Units']=pandas.to_numeric(df['Units'],errors='coerce')\n",
    "df.dropna(inplace=True)"
   ]
  },
  {
   "cell_type": "code",
   "execution_count": null,
   "id": "071e8a26",
   "metadata": {},
   "outputs": [],
   "source": [
    "#Occupancy column - label encoding\n",
    "df.loc[df['Occupancy']==\"O\",'Occupancy']=0\n",
    "df.loc[df['Occupancy']==\"S\",'Occupancy']=1\n",
    "df.loc[df['Occupancy']==\"I\",'Occupancy']=2\n",
    "df.loc[df['Occupancy']==\"X\",'Occupancy']=float('NaN')\n",
    "df.dropna(inplace=True)"
   ]
  },
  {
   "cell_type": "code",
   "execution_count": null,
   "id": "1741c779",
   "metadata": {},
   "outputs": [],
   "source": [
    "#OCLTV column\n",
    "df['OCLTV']=pandas.to_numeric(df['OCLTV'],errors='coerce')\n",
    "df.dropna(inplace=True)"
   ]
  },
  {
   "cell_type": "code",
   "execution_count": null,
   "id": "14e89c34",
   "metadata": {},
   "outputs": [],
   "source": [
    "#DTI column\n",
    "df['DTI']=pandas.to_numeric(df['DTI'],errors='coerce')\n",
    "df.dropna(inplace=True)"
   ]
  },
  {
   "cell_type": "code",
   "execution_count": null,
   "id": "9d1b089f",
   "metadata": {},
   "outputs": [],
   "source": [
    "#OrigUPB column\n",
    "df['OrigUPB']=pandas.to_numeric(df['OrigUPB'],errors='coerce')\n",
    "df.dropna(inplace=True)"
   ]
  },
  {
   "cell_type": "code",
   "execution_count": null,
   "id": "1cf1318c",
   "metadata": {},
   "outputs": [],
   "source": [
    "#LTV column\n",
    "df['LTV']=pandas.to_numeric(df['LTV'],errors='coerce')\n",
    "df.dropna(inplace=True)"
   ]
  },
  {
   "cell_type": "code",
   "execution_count": null,
   "id": "c194b8d4",
   "metadata": {},
   "outputs": [],
   "source": [
    "#OrigInterestRate column\n",
    "df['OrigInterestRate']=pandas.to_numeric(df['OrigInterestRate'],errors='coerce')\n",
    "df.dropna(inplace=True)"
   ]
  },
  {
   "cell_type": "code",
   "execution_count": null,
   "id": "4a523d9c",
   "metadata": {},
   "outputs": [],
   "source": [
    "#Channel column - one hot encoding\n",
    "df=pandas.get_dummies(df,columns=['Channel'])"
   ]
  },
  {
   "cell_type": "code",
   "execution_count": null,
   "id": "a99548f1",
   "metadata": {},
   "outputs": [],
   "source": [
    "#PPM column - label encoding\n",
    "df.loc[df['PPM']=='X','PPM']=float('NaN')\n",
    "df.loc[df['PPM']=='Y','PPM']=1.0\n",
    "df.loc[df['PPM']=='N','PPM']=0.0\n",
    "df.dropna(inplace=True)"
   ]
  },
  {
   "cell_type": "code",
   "execution_count": null,
   "id": "6c79f448",
   "metadata": {},
   "outputs": [],
   "source": [
    "#ProductType column - same value for every row so we delete this column\n",
    "df.drop(['ProductType'],axis=1,inplace=True)"
   ]
  },
  {
   "cell_type": "code",
   "execution_count": null,
   "id": "a6001b53",
   "metadata": {},
   "outputs": [],
   "source": [
    "#PropertyState column - state abbreviations, had to be encoded so that the dataset is usable for algortihms like logistic regression\n",
    "df=pandas.get_dummies(df,columns=['PropertyState'])"
   ]
  },
  {
   "cell_type": "code",
   "execution_count": null,
   "id": "b82985a8",
   "metadata": {},
   "outputs": [],
   "source": [
    "#PropertyType column - one hot encoding\n",
    "df.loc[df['PropertyType']=='X ','PropertyType']=float('NaN')\n",
    "df.dropna(inplace=True)\n",
    "df=pandas.get_dummies(df,columns=['PropertyType'])"
   ]
  },
  {
   "cell_type": "code",
   "execution_count": null,
   "id": "aea2a0ef",
   "metadata": {},
   "outputs": [],
   "source": [
    "#PostalCode column\n",
    "df['PostalCode']=pandas.to_numeric(df['PostalCode'],errors='coerce')\n",
    "df.dropna(inplace=True)"
   ]
  },
  {
   "cell_type": "markdown",
   "id": "56b58a83",
   "metadata": {},
   "source": [
    "LoanSeqNum column - UID for loans, no correction needed"
   ]
  },
  {
   "cell_type": "code",
   "execution_count": null,
   "id": "79c0998b",
   "metadata": {},
   "outputs": [],
   "source": [
    "#LoanPurpose column - one hot encoding\n",
    "df=pandas.get_dummies(df,columns=['LoanPurpose'])"
   ]
  },
  {
   "cell_type": "code",
   "execution_count": null,
   "id": "9adba2dc",
   "metadata": {},
   "outputs": [],
   "source": [
    "#OrigLoanTerm column\n",
    "df['OrigLoanTerm']=pandas.to_numeric(df['OrigLoanTerm'],errors='coerce')\n",
    "df.dropna(inplace=True)"
   ]
  },
  {
   "cell_type": "code",
   "execution_count": null,
   "id": "a20f23f1",
   "metadata": {},
   "outputs": [],
   "source": [
    "#NumBorrowers column\n",
    "df['NumBorrowers']=pandas.to_numeric(df['NumBorrowers'],errors='coerce')\n",
    "df.dropna(inplace=True)"
   ]
  },
  {
   "cell_type": "code",
   "execution_count": null,
   "id": "69f273f1",
   "metadata": {},
   "outputs": [],
   "source": [
    "#EverDelinquent column\n",
    "df['EverDelinquent']=pandas.to_numeric(df['EverDelinquent'],errors='coerce')\n",
    "df.dropna(inplace=True)"
   ]
  },
  {
   "cell_type": "code",
   "execution_count": null,
   "id": "dd74aedc",
   "metadata": {},
   "outputs": [],
   "source": [
    "#MonthsDelinquent column\n",
    "df['MonthsDelinquent']=pandas.to_numeric(df['MonthsDelinquent'],errors='coerce')\n",
    "df.dropna(inplace=True)"
   ]
  },
  {
   "cell_type": "code",
   "execution_count": null,
   "id": "f917ef32",
   "metadata": {},
   "outputs": [],
   "source": [
    "#MonthsInRepayment column\n",
    "df['MonthsInRepayment']=pandas.to_numeric(df['MonthsInRepayment'],errors='coerce')\n",
    "df.dropna(inplace=True)"
   ]
  },
  {
   "cell_type": "code",
   "execution_count": null,
   "id": "6fc36ea7",
   "metadata": {},
   "outputs": [],
   "source": [
    "#ServicerName column\n",
    "df=pandas.get_dummies(df,columns=['ServicerName'])"
   ]
  },
  {
   "cell_type": "code",
   "execution_count": null,
   "id": "f8c5e247",
   "metadata": {},
   "outputs": [],
   "source": [
    "#SellerName column\n",
    "df=pandas.get_dummies(df,columns=['SellerName'])"
   ]
  },
  {
   "cell_type": "code",
   "execution_count": null,
   "id": "c154be4e",
   "metadata": {},
   "outputs": [],
   "source": [
    "# THE CODE BELOW WAS USED TO CHECK THE NUMBER OF COLUMNS IN OUR DATASET AFTER PROCESSING\n",
    "c=1\n",
    "for x in (df.columns.tolist()):\n",
    "    print(c,x)\n",
    "    c=c+1\n",
    "# print(len(df))"
   ]
  },
  {
   "cell_type": "markdown",
   "id": "cf1504a8",
   "metadata": {},
   "source": [
    "THIS COMMAND IS TO BE EXECUTED WHEN EVERYTHING IS ERROR FREE, THIS COMAND EXPORTS OUR DATA FRAME INTO CSV FORMAT\n",
    "df.to_csv(\"processed_MBS.csv\",index=False)"
   ]
  }
 ],
 "metadata": {
  "jupytext": {
   "cell_metadata_filter": "-all",
   "main_language": "python",
   "notebook_metadata_filter": "-all"
  }
 },
 "nbformat": 4,
 "nbformat_minor": 5
}
