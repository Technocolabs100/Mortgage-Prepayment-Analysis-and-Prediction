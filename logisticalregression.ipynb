{
 "cells": [
  {
   "cell_type": "code",
   "execution_count": null,
   "id": "15d9a6c2",
   "metadata": {},
   "outputs": [],
   "source": [
    "import numpy\n",
    "import pandas\n",
    "import matplotlib.pyplot as plt\n",
    "import seaborn\n",
    "from sklearn import metrics\n",
    "from sklearn.model_selection import train_test_split\n",
    "from sklearn.preprocessing import StandardScaler\n",
    "from sklearn.linear_model import LogisticRegression\n",
    "from sklearn.metrics import accuracy_score, classification_report, confusion_matrix, roc_curve, auc\n",
    "# df=pandas.read_csv('processed_MBS.csv')\n",
    "# df.drop('LoanSeqNum',axis=1, inplace=True)\n",
    "# df.drop('FirstPaymentDate',axis=1,inplace=True)\n",
    "# df.drop('MaturityDate',axis=1,inplace=True)\n",
    "# numpy.random.seed(0)\n",
    "# samples=len(df)\n",
    "# c=1\n",
    "# for x in (df.columns.tolist()):\n",
    "#     c=c+1\n",
    "# features=c-1"
   ]
  },
  {
   "cell_type": "markdown",
   "id": "a08409a0",
   "metadata": {},
   "source": [
    "data=numpy.random.rand(samples,features)\n",
    "target=numpy.random.randint(0,2,samples)"
   ]
  },
  {
   "cell_type": "markdown",
   "id": "3b105cb8",
   "metadata": {},
   "source": [
    "df['EverDelinquent']=target"
   ]
  },
  {
   "cell_type": "markdown",
   "id": "1c5e8464",
   "metadata": {},
   "source": [
    "x=df.drop('EverDelinquent',axis=1)\n",
    "y=df['EverDelinquent']"
   ]
  },
  {
   "cell_type": "markdown",
   "id": "8a168052",
   "metadata": {
    "lines_to_next_cell": 2
   },
   "source": [
    "x_train,x_test,y_train,y_test=train_test_split(x,y,test_size=0.25,random_state=42)\n",
    "model=LogisticRegression(max_iter=len(df)*2)\n",
    "model.fit(x_train,y_train)\n",
    "y_pred=model.predict(x_test)\n",
    "accuracy=accuracy_score(y_test,y_pred)\n",
    "print(\"Accuracy : \",accuracy) "
   ]
  },
  {
   "cell_type": "markdown",
   "id": "9a797a41",
   "metadata": {},
   "source": [
    "This gave an accuracy of 50% \n",
    "To improve this accuracy I have balanced the dataset by oversampling it in \"eda.py\""
   ]
  },
  {
   "cell_type": "code",
   "execution_count": null,
   "id": "2408db6b",
   "metadata": {},
   "outputs": [],
   "source": [
    "df1=pandas.read_csv('algo_ready.csv')\n",
    "numpy.random.seed(0)\n",
    "samples=len(df1)\n",
    "cols=len(df1.columns)\n",
    "features=cols-1"
   ]
  },
  {
   "cell_type": "code",
   "execution_count": null,
   "id": "df2a94e4",
   "metadata": {},
   "outputs": [],
   "source": [
    "data=numpy.random.rand(samples,features)\n",
    "target=numpy.random.randint(0,2,samples)"
   ]
  },
  {
   "cell_type": "code",
   "execution_count": null,
   "id": "19c0d18f",
   "metadata": {},
   "outputs": [],
   "source": [
    "df1['EverDelinquent']=target"
   ]
  },
  {
   "cell_type": "code",
   "execution_count": null,
   "id": "0afdc6ae",
   "metadata": {},
   "outputs": [],
   "source": [
    "x=df1.drop('EverDelinquent',axis=1)\n",
    "y=df1['EverDelinquent']"
   ]
  },
  {
   "cell_type": "code",
   "execution_count": null,
   "id": "cafad282",
   "metadata": {},
   "outputs": [],
   "source": [
    "x_train,x_test,y_train,y_test=train_test_split(x,y,test_size=0.25,random_state=10)\n",
    "model=LogisticRegression(max_iter=samples)\n",
    "model.fit(x_train,y_train)\n",
    "y_pred=model.predict(x_test)\n",
    "accuracy=accuracy_score(y_test,y_pred)\n",
    "print(\"Accuracy of the model : \",accuracy*100)\n",
    "#Accuracy is still 50%"
   ]
  },
  {
   "cell_type": "code",
   "execution_count": null,
   "id": "2f18b04c",
   "metadata": {},
   "outputs": [],
   "source": [
    "confusion_matrix=metrics.confusion_matrix(y_test,y_pred)\n",
    "cm_display=metrics.ConfusionMatrixDisplay(confusion_matrix=confusion_matrix,display_labels=[0,1])\n",
    "cm_display.plot()\n",
    "plt.show()"
   ]
  }
 ],
 "metadata": {
  "jupytext": {
   "cell_metadata_filter": "-all",
   "main_language": "python",
   "notebook_metadata_filter": "-all"
  }
 },
 "nbformat": 4,
 "nbformat_minor": 5
}
